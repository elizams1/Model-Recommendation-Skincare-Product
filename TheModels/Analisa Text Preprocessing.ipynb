{
 "cells": [
  {
   "cell_type": "code",
   "execution_count": 32,
   "metadata": {},
   "outputs": [],
   "source": [
    "import pandas as pd"
   ]
  },
  {
   "cell_type": "code",
   "execution_count": 1,
   "metadata": {},
   "outputs": [
    {
     "name": "stdout",
     "output_type": "stream",
     "text": [
      "Requirement already satisfied: nltk in c:\\users\\hp\\appdata\\local\\programs\\python\\python38\\lib\\site-packages (3.8.1)Note: you may need to restart the kernel to use updated packages.\n",
      "\n",
      "Requirement already satisfied: click in c:\\users\\hp\\appdata\\local\\programs\\python\\python38\\lib\\site-packages (from nltk) (8.1.3)\n",
      "Requirement already satisfied: joblib in c:\\users\\hp\\appdata\\local\\programs\\python\\python38\\lib\\site-packages (from nltk) (1.2.0)\n",
      "Requirement already satisfied: regex>=2021.8.3 in c:\\users\\hp\\appdata\\local\\programs\\python\\python38\\lib\\site-packages (from nltk) (2023.3.23)\n",
      "Requirement already satisfied: tqdm in c:\\users\\hp\\appdata\\local\\programs\\python\\python38\\lib\\site-packages (from nltk) (4.65.0)\n",
      "Requirement already satisfied: colorama in c:\\users\\hp\\appdata\\roaming\\python\\python38\\site-packages (from click->nltk) (0.4.4)\n"
     ]
    }
   ],
   "source": [
    "pip install nltk"
   ]
  },
  {
   "cell_type": "code",
   "execution_count": 2,
   "metadata": {},
   "outputs": [
    {
     "name": "stderr",
     "output_type": "stream",
     "text": [
      "[nltk_data] Downloading package punkt to\n",
      "[nltk_data]     C:\\Users\\HP\\AppData\\Roaming\\nltk_data...\n",
      "[nltk_data]   Package punkt is already up-to-date!\n"
     ]
    },
    {
     "data": {
      "text/plain": [
       "True"
      ]
     },
     "execution_count": 2,
     "metadata": {},
     "output_type": "execute_result"
    }
   ],
   "source": [
    "# Mengimport nltk\n",
    "from nltk.tokenize import word_tokenize\n",
    "import nltk\n",
    "# import reguler expression\n",
    "import re\n",
    "# import string\n",
    "import string\n",
    "# Mendownload package untuk menghapus tanda baca\n",
    "nltk.download('punkt')\n",
    "# impor word_tokenize dari modul nltk\n"
   ]
  },
  {
   "cell_type": "code",
   "execution_count": 14,
   "metadata": {},
   "outputs": [],
   "source": [
    "text = \"Vitamin A, Vitamin B, Glycol Distearate, Decyl Glucoside, Phenoxyethanol, Potassium Laureth Phosphate, PEG-7 Glyceryl Cocoate, Sodium Benzoate, Distearyl Phthalic Acid Amide, Cocamide MEA, PEG-40 Hydrogenated Castor Oil, Acrylates Copolymer, PEG-120 Methyl Glucose Dioleate\"\n",
    "text_two = \"Vitamin-A, Vitamin-B, Glycol-Distearate, Decyl-Glucoside, Phenoxyethanol, Potassium-Laureth-Phosphate, PEG-7-Glyceryl-Cocoate, Sodium-Benzoate, Distearyl-Phthalic-Acid-Amide, Cocamide-MEA, PEG-40-Hydrogenated-Castor-Oil, Acrylates-Copolymer, PEG-120-Methyl-Glucose-Dioleate\"\n"
   ]
  },
  {
   "cell_type": "code",
   "execution_count": 9,
   "metadata": {},
   "outputs": [],
   "source": [
    "def tokenizin(text):\n",
    "  # Menghapus Angka\n",
    "  text = re.sub(r\"\\d+\", \"\",text)\n",
    "  # Menghapus Tanda Baca\n",
    "  text = text.translate(str.maketrans('', '', string.punctuation))\n",
    "  # Menghapus Simbol (@)\n",
    "  text= re.sub(r\"@\\S+\", \"\",text)\n",
    "  # Menghapus URL\n",
    "  text = re.sub(\"http[s]?\\://\\S+\", \"\", text)\n",
    "  # Menghapus tab atau line karakter\n",
    "  text = re.sub(r\"\\n\", \"\", text)\n",
    "  # Menghapus single alpabet\n",
    "  text = re.sub(r\"\\b[a-zA-Z]\\b\", \"\", text)\n",
    "  # Menghapus berlebihan spasi\n",
    "  text = re.sub('\\s+', ' ', text)\n",
    "  # Memisahkan kata menggunakan word_tokenize\n",
    "  text = nltk.word_tokenize(text)\n",
    "\n",
    "  return text\n"
   ]
  },
  {
   "cell_type": "code",
   "execution_count": 15,
   "metadata": {},
   "outputs": [
    {
     "name": "stdout",
     "output_type": "stream",
     "text": [
      "vitamin a, vitamin b, glycol distearate, decyl glucoside, phenoxyethanol, potassium laureth phosphate, peg-7 glyceryl cocoate, sodium benzoate, distearyl phthalic acid amide, cocamide mea, peg-40 hydrogenated castor oil, acrylates copolymer, peg-120 methyl glucose dioleate\n",
      "vitamin-a, vitamin-b, glycol-distearate, decyl-glucoside, phenoxyethanol, potassium-laureth-phosphate, peg-7-glyceryl-cocoate, sodium-benzoate, distearyl-phthalic-acid-amide, cocamide-mea, peg-40-hydrogenated-castor-oil, acrylates-copolymer, peg-120-methyl-glucose-dioleate\n"
     ]
    }
   ],
   "source": [
    "text_case_folding = text.lower()\n",
    "print(text_case_folding)\n",
    "\n",
    "text_case_folding_two = text_two.lower()\n",
    "print(text_case_folding_two)"
   ]
  },
  {
   "cell_type": "code",
   "execution_count": 11,
   "metadata": {},
   "outputs": [
    {
     "name": "stdout",
     "output_type": "stream",
     "text": [
      "['vitamin', 'vitamin', 'glycol', 'distearate', 'decyl', 'glucoside', 'phenoxyethanol', 'potassium', 'laureth', 'phosphate', 'peg', 'glyceryl', 'cocoate', 'sodium', 'benzoate', 'distearyl', 'phthalic', 'acid', 'amide', 'cocamide', 'mea', 'peg', 'hydrogenated', 'castor', 'oil', 'acrylates', 'copolymer', 'peg', 'methyl', 'glucose', 'dioleate']\n"
     ]
    }
   ],
   "source": [
    "a = tokenizin(text_case_folding)\n",
    "\n",
    "print(a)"
   ]
  },
  {
   "cell_type": "code",
   "execution_count": 12,
   "metadata": {},
   "outputs": [],
   "source": [
    "def tokenizing_two(text):\n",
    "  # Menghapus Angka\n",
    "  # text = re.sub(r\"\\d+\", \"\", text)\n",
    "  # Menghapus Tanda Baca\n",
    "  text = text.translate(str.maketrans('', '', string.punctuation))\n",
    "  # Menghapus Simbol (@)\n",
    "  text = re.sub(r\"@\\S+\", \"\", text)\n",
    "  # Menghapus URL\n",
    "  text = re.sub(\"http[s]?\\://\\S+\", \"\", text)\n",
    "  # Menghapus tab atau line karakter\n",
    "  text = re.sub(r\"\\n\", \"\", text)\n",
    "  # Menghapus single alpabet\n",
    "  # text = re.sub(r\"\\b[a-zA-Z]\\b\", \"\", text)\n",
    "  # Menghapus berlebihan spasi\n",
    "  text = re.sub('\\s+', ' ', text)\n",
    "  # Memisahkan kata menggunakan word_tokenize\n",
    "  text = nltk.word_tokenize(text)\n",
    "\n",
    "  return text\n"
   ]
  },
  {
   "cell_type": "code",
   "execution_count": 13,
   "metadata": {},
   "outputs": [
    {
     "name": "stdout",
     "output_type": "stream",
     "text": [
      "['vitamin', 'a', 'vitamin', 'b', 'glycol', 'distearate', 'decyl', 'glucoside', 'phenoxyethanol', 'potassium', 'laureth', 'phosphate', 'peg7', 'glyceryl', 'cocoate', 'sodium', 'benzoate', 'distearyl', 'phthalic', 'acid', 'amide', 'cocamide', 'mea', 'peg40', 'hydrogenated', 'castor', 'oil', 'acrylates', 'copolymer', 'peg120', 'methyl', 'glucose', 'dioleate']\n"
     ]
    }
   ],
   "source": [
    "b = tokenizing_two(text_case_folding)\n",
    "\n",
    "print(b)\n"
   ]
  },
  {
   "cell_type": "code",
   "execution_count": 16,
   "metadata": {},
   "outputs": [
    {
     "name": "stdout",
     "output_type": "stream",
     "text": [
      "['vitamina', 'vitaminb', 'glycoldistearate', 'decylglucoside', 'phenoxyethanol', 'potassiumlaurethphosphate', 'peg7glycerylcocoate', 'sodiumbenzoate', 'distearylphthalicacidamide', 'cocamidemea', 'peg40hydrogenatedcastoroil', 'acrylatescopolymer', 'peg120methylglucosedioleate']\n"
     ]
    }
   ],
   "source": [
    "c = tokenizing_two(text_case_folding_two)\n",
    "\n",
    "print(c)\n"
   ]
  },
  {
   "cell_type": "code",
   "execution_count": 17,
   "metadata": {},
   "outputs": [
    {
     "name": "stderr",
     "output_type": "stream",
     "text": [
      "[nltk_data] Downloading package stopwords to\n",
      "[nltk_data]     C:\\Users\\HP\\AppData\\Roaming\\nltk_data...\n",
      "[nltk_data]   Package stopwords is already up-to-date!\n"
     ]
    }
   ],
   "source": [
    "from nltk.corpus import stopwords\n",
    "nltk.download('stopwords')\n"
   ]
  },
  {
   "cell_type": "code",
   "execution_count": 18,
   "metadata": {},
   "outputs": [],
   "source": [
    "def filtering(text):\n",
    "  # Stopword Bahasa Indonesia\n",
    "  indo_stopword = (stopwords.words('indonesian'))\n",
    "\n",
    "  # Stopword Bahasa Inggris\n",
    "  eng_stopword = (stopwords.words('english'))\n",
    "\n",
    "  # Data Stopword\n",
    "  data_stopword = indo_stopword\n",
    "  data_stopword.extend(eng_stopword)\n",
    "  data_stopword = str(data_stopword)\n",
    "\n",
    "  text = [word for word in text if not word in (data_stopword)]\n",
    "\n",
    "  return text\n"
   ]
  },
  {
   "cell_type": "code",
   "execution_count": 20,
   "metadata": {},
   "outputs": [
    {
     "name": "stdout",
     "output_type": "stream",
     "text": [
      "['vitamina', 'vitaminb', 'glycoldistearate', 'decylglucoside', 'phenoxyethanol', 'potassiumlaurethphosphate', 'peg7glycerylcocoate', 'sodiumbenzoate', 'distearylphthalicacidamide', 'cocamidemea', 'peg40hydrogenatedcastoroil', 'acrylatescopolymer', 'peg120methylglucosedioleate']\n"
     ]
    }
   ],
   "source": [
    "d = filtering(c)\n",
    "\n",
    "print(d)"
   ]
  },
  {
   "cell_type": "code",
   "execution_count": 21,
   "metadata": {},
   "outputs": [
    {
     "name": "stdout",
     "output_type": "stream",
     "text": [
      "Requirement already satisfied: PySastrawi in c:\\users\\hp\\appdata\\local\\programs\\python\\python38\\lib\\site-packages (1.2.0)\n",
      "Note: you may need to restart the kernel to use updated packages.\n"
     ]
    }
   ],
   "source": [
    "pip install PySastrawi"
   ]
  },
  {
   "cell_type": "code",
   "execution_count": 22,
   "metadata": {},
   "outputs": [],
   "source": [
    "# Stemming\n",
    "from Sastrawi.Stemmer.StemmerFactory import StemmerFactory\n"
   ]
  },
  {
   "cell_type": "code",
   "execution_count": 23,
   "metadata": {},
   "outputs": [],
   "source": [
    "\n",
    "def stemming(text):\n",
    "\n",
    "  # Membuat stemmer\n",
    "  Factory = StemmerFactory()\n",
    "  Stemmer = Factory.create_stemmer()\n",
    "\n",
    "  temp = []\n",
    "  for i in range(0,len(text)):\n",
    "    text[i] = Stemmer.stem(text[i]) \n",
    "    temp.append(text[i])\n",
    "  text = temp\n",
    "\n",
    "  return text"
   ]
  },
  {
   "cell_type": "code",
   "execution_count": 24,
   "metadata": {},
   "outputs": [
    {
     "name": "stdout",
     "output_type": "stream",
     "text": [
      "['vitamina', 'vitaminb', 'glycoldistearate', 'decylglucoside', 'phenoxyethanol', 'potassiumlaurethphosphate', 'peg7glycerylcocoate', 'sodiumbenzoate', 'distearylphthalicacidamide', 'cocamidemea', 'peg40hydrogenatedcastoroil', 'acrylatescopolymer', 'peg120methylglucosedioleate']\n"
     ]
    }
   ],
   "source": [
    "e = stemming(d)\n",
    "\n",
    "print(e)"
   ]
  },
  {
   "cell_type": "code",
   "execution_count": 25,
   "metadata": {},
   "outputs": [
    {
     "name": "stdout",
     "output_type": "stream",
     "text": [
      "vitamina vitaminb glycoldistearate decylglucoside phenoxyethanol potassiumlaurethphosphate peg7glycerylcocoate sodiumbenzoate distearylphthalicacidamide cocamidemea peg40hydrogenatedcastoroil acrylatescopolymer peg120methylglucosedioleate\n"
     ]
    }
   ],
   "source": [
    "f = \" \".join(e)\n",
    "print(f)"
   ]
  },
  {
   "cell_type": "code",
   "execution_count": 30,
   "metadata": {},
   "outputs": [],
   "source": [
    "data = [\"vitamina vitaminb glycoldistearate decylglucoside phenoxyethanol potassiumlaurethphosphate peg7glycerylcocoate sodiumbenzoate distearylphthalicacidamide cocamidemea peg40hydrogenatedcastoroil acrylatescopolymer peg120methylglucosedioleate\",\"vitamina vitaminb acrylatescopolymer peg120methylglucosedioleate\"]\n"
   ]
  },
  {
   "cell_type": "code",
   "execution_count": 26,
   "metadata": {},
   "outputs": [],
   "source": [
    "# TFIDF\n",
    "from sklearn.feature_extraction.text import TfidfVectorizer\n"
   ]
  },
  {
   "cell_type": "code",
   "execution_count": 34,
   "metadata": {},
   "outputs": [
    {
     "data": {
      "text/html": [
       "<div>\n",
       "<style scoped>\n",
       "    .dataframe tbody tr th:only-of-type {\n",
       "        vertical-align: middle;\n",
       "    }\n",
       "\n",
       "    .dataframe tbody tr th {\n",
       "        vertical-align: top;\n",
       "    }\n",
       "\n",
       "    .dataframe thead th {\n",
       "        text-align: right;\n",
       "    }\n",
       "</style>\n",
       "<table border=\"1\" class=\"dataframe\">\n",
       "  <thead>\n",
       "    <tr style=\"text-align: right;\">\n",
       "      <th></th>\n",
       "      <th>acrylatescopolymer</th>\n",
       "      <th>cocamidemea</th>\n",
       "      <th>decylglucoside</th>\n",
       "      <th>distearylphthalicacidamide</th>\n",
       "      <th>glycoldistearate</th>\n",
       "      <th>peg120methylglucosedioleate</th>\n",
       "      <th>peg40hydrogenatedcastoroil</th>\n",
       "      <th>peg7glycerylcocoate</th>\n",
       "      <th>phenoxyethanol</th>\n",
       "      <th>potassiumlaurethphosphate</th>\n",
       "      <th>sodiumbenzoate</th>\n",
       "      <th>vitamina</th>\n",
       "      <th>vitaminb</th>\n",
       "    </tr>\n",
       "  </thead>\n",
       "  <tbody>\n",
       "    <tr>\n",
       "      <th>0</th>\n",
       "      <td>0.214285</td>\n",
       "      <td>0.30117</td>\n",
       "      <td>0.30117</td>\n",
       "      <td>0.30117</td>\n",
       "      <td>0.30117</td>\n",
       "      <td>0.214285</td>\n",
       "      <td>0.30117</td>\n",
       "      <td>0.30117</td>\n",
       "      <td>0.30117</td>\n",
       "      <td>0.30117</td>\n",
       "      <td>0.30117</td>\n",
       "      <td>0.214285</td>\n",
       "      <td>0.214285</td>\n",
       "    </tr>\n",
       "    <tr>\n",
       "      <th>1</th>\n",
       "      <td>0.500000</td>\n",
       "      <td>0.00000</td>\n",
       "      <td>0.00000</td>\n",
       "      <td>0.00000</td>\n",
       "      <td>0.00000</td>\n",
       "      <td>0.500000</td>\n",
       "      <td>0.00000</td>\n",
       "      <td>0.00000</td>\n",
       "      <td>0.00000</td>\n",
       "      <td>0.00000</td>\n",
       "      <td>0.00000</td>\n",
       "      <td>0.500000</td>\n",
       "      <td>0.500000</td>\n",
       "    </tr>\n",
       "  </tbody>\n",
       "</table>\n",
       "</div>"
      ],
      "text/plain": [
       "   acrylatescopolymer  cocamidemea  decylglucoside  \\\n",
       "0            0.214285      0.30117         0.30117   \n",
       "1            0.500000      0.00000         0.00000   \n",
       "\n",
       "   distearylphthalicacidamide  glycoldistearate  peg120methylglucosedioleate  \\\n",
       "0                     0.30117           0.30117                     0.214285   \n",
       "1                     0.00000           0.00000                     0.500000   \n",
       "\n",
       "   peg40hydrogenatedcastoroil  peg7glycerylcocoate  phenoxyethanol  \\\n",
       "0                     0.30117              0.30117         0.30117   \n",
       "1                     0.00000              0.00000         0.00000   \n",
       "\n",
       "   potassiumlaurethphosphate  sodiumbenzoate  vitamina  vitaminb  \n",
       "0                    0.30117         0.30117  0.214285  0.214285  \n",
       "1                    0.00000         0.00000  0.500000  0.500000  "
      ]
     },
     "metadata": {},
     "output_type": "display_data"
    }
   ],
   "source": [
    "# TFIDF vectorizer\n",
    "vectorizer = TfidfVectorizer(analyzer='word')\n",
    "tfidf = vectorizer.fit_transform(data)\n",
    "\n",
    "df_tfidf_sklearn = pd.DataFrame(\n",
    "    tfidf.toarray(), columns=vectorizer.get_feature_names_out())\n",
    "tfidf_tokens = vectorizer.get_feature_names_out()\n",
    "df_tfidfvect = pd.DataFrame(data=tfidf.toarray(\n",
    "), index=[0,1], columns=tfidf_tokens)\n",
    "\n",
    "display(df_tfidfvect)\n"
   ]
  },
  {
   "cell_type": "code",
   "execution_count": 35,
   "metadata": {},
   "outputs": [
    {
     "data": {
      "text/html": [
       "<div>\n",
       "<style scoped>\n",
       "    .dataframe tbody tr th:only-of-type {\n",
       "        vertical-align: middle;\n",
       "    }\n",
       "\n",
       "    .dataframe tbody tr th {\n",
       "        vertical-align: top;\n",
       "    }\n",
       "\n",
       "    .dataframe thead th {\n",
       "        text-align: right;\n",
       "    }\n",
       "</style>\n",
       "<table border=\"1\" class=\"dataframe\">\n",
       "  <thead>\n",
       "    <tr style=\"text-align: right;\">\n",
       "      <th></th>\n",
       "      <th>0</th>\n",
       "      <th>1</th>\n",
       "    </tr>\n",
       "  </thead>\n",
       "  <tbody>\n",
       "    <tr>\n",
       "      <th>0</th>\n",
       "      <td>1.000000</td>\n",
       "      <td>0.428569</td>\n",
       "    </tr>\n",
       "    <tr>\n",
       "      <th>1</th>\n",
       "      <td>0.428569</td>\n",
       "      <td>1.000000</td>\n",
       "    </tr>\n",
       "  </tbody>\n",
       "</table>\n",
       "</div>"
      ],
      "text/plain": [
       "          0         1\n",
       "0  1.000000  0.428569\n",
       "1  0.428569  1.000000"
      ]
     },
     "metadata": {},
     "output_type": "display_data"
    }
   ],
   "source": [
    "from sklearn.metrics.pairwise import cosine_similarity\n",
    "\n",
    "cos_sim = cosine_similarity(tfidf)\n",
    "df_cosim = pd.DataFrame(data=cos_sim)\n",
    "display(df_cosim)\n"
   ]
  },
  {
   "cell_type": "code",
   "execution_count": null,
   "metadata": {},
   "outputs": [],
   "source": []
  }
 ],
 "metadata": {
  "kernelspec": {
   "display_name": "Python 3",
   "language": "python",
   "name": "python3"
  },
  "language_info": {
   "codemirror_mode": {
    "name": "ipython",
    "version": 3
   },
   "file_extension": ".py",
   "mimetype": "text/x-python",
   "name": "python",
   "nbconvert_exporter": "python",
   "pygments_lexer": "ipython3",
   "version": "3.8.10"
  },
  "orig_nbformat": 4
 },
 "nbformat": 4,
 "nbformat_minor": 2
}
